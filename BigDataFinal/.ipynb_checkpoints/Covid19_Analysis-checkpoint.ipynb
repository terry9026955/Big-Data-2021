{
 "cells": [
  {
   "cell_type": "code",
   "execution_count": 2,
   "id": "453b898a",
   "metadata": {},
   "outputs": [],
   "source": [
    "#把基本前置作業該裝的裝好\n",
    "\n",
    "import pandas as pd\n",
    "import numpy as np\n",
    "import math\n",
    "import csv\n",
    "import re\n",
    "import json\n",
    "import time\n",
    "from pyspark import SparkContext\n",
    "from pyspark.sql import SQLContext\n",
    "import pyspark.sql.functions \n",
    "from pyspark.sql import Row\n",
    "from collections import OrderedDict\n",
    "from pyspark.sql.functions import *\n",
    "import pyspark.sql.functions as F\n",
    "import pyspark.sql.types as T"
   ]
  },
  {
   "cell_type": "code",
   "execution_count": 3,
   "id": "89d7b287",
   "metadata": {},
   "outputs": [],
   "source": [
    "#額外需要的功能\n",
    "\n",
    "import numpy as np # linear algebra\n",
    "import pandas as pd # data processing, CSV file I/O (e.g. pd.read_csv)\n",
    "\n",
    "import os\n",
    "for dirname, _, filenames in os.walk('/kaggle/input'):\n",
    "    for filename in filenames:\n",
    "        print(os.path.join(dirname, filename))"
   ]
  },
  {
   "cell_type": "code",
   "execution_count": 57,
   "id": "6f941ebf",
   "metadata": {},
   "outputs": [
    {
     "name": "stdout",
     "output_type": "stream",
     "text": [
      "+----------+-----------+----------+-----+-----+------+\n",
      "|      date|     county|     state| fips|cases|deaths|\n",
      "+----------+-----------+----------+-----+-----+------+\n",
      "|2020-01-21|  Snohomish|Washington|53061|    1|     0|\n",
      "|2020-01-22|  Snohomish|Washington|53061|    1|     0|\n",
      "|2020-01-23|  Snohomish|Washington|53061|    1|     0|\n",
      "|2020-01-24|       Cook|  Illinois|17031|    1|     0|\n",
      "|2020-01-24|  Snohomish|Washington|53061|    1|     0|\n",
      "|2020-01-25|     Orange|California| 6059|    1|     0|\n",
      "|2020-01-25|       Cook|  Illinois|17031|    1|     0|\n",
      "|2020-01-25|  Snohomish|Washington|53061|    1|     0|\n",
      "|2020-01-26|   Maricopa|   Arizona| 4013|    1|     0|\n",
      "|2020-01-26|Los Angeles|California| 6037|    1|     0|\n",
      "|2020-01-26|     Orange|California| 6059|    1|     0|\n",
      "|2020-01-26|       Cook|  Illinois|17031|    1|     0|\n",
      "|2020-01-26|  Snohomish|Washington|53061|    1|     0|\n",
      "|2020-01-27|   Maricopa|   Arizona| 4013|    1|     0|\n",
      "|2020-01-27|Los Angeles|California| 6037|    1|     0|\n",
      "|2020-01-27|     Orange|California| 6059|    1|     0|\n",
      "|2020-01-27|       Cook|  Illinois|17031|    1|     0|\n",
      "|2020-01-27|  Snohomish|Washington|53061|    1|     0|\n",
      "|2020-01-28|   Maricopa|   Arizona| 4013|    1|     0|\n",
      "|2020-01-28|Los Angeles|California| 6037|    1|     0|\n",
      "+----------+-----------+----------+-----+-----+------+\n",
      "only showing top 20 rows\n",
      "\n"
     ]
    }
   ],
   "source": [
    "#Dataframe of Covid-19 dataset\n",
    "\n",
    "#檔案路徑\n",
    "#'C://Users//user//Desktop//BigDataFinal//us-counties.csv//us-counties.csv'\n",
    "\n",
    "#讀取.csv檔案並轉為dataframe\n",
    "data = sqlContext.read.format('com.databricks.spark.csv').options(header='true', \n",
    "inferschema='true').load('C://Users//user//Desktop//BigDataFinal//us-counties.csv//us-counties.csv')\n",
    "\n",
    "data.show(20)"
   ]
  },
  {
   "cell_type": "code",
   "execution_count": 4,
   "id": "ddaf5332",
   "metadata": {},
   "outputs": [
    {
     "data": {
      "text/html": [
       "<div>\n",
       "<style scoped>\n",
       "    .dataframe tbody tr th:only-of-type {\n",
       "        vertical-align: middle;\n",
       "    }\n",
       "\n",
       "    .dataframe tbody tr th {\n",
       "        vertical-align: top;\n",
       "    }\n",
       "\n",
       "    .dataframe thead th {\n",
       "        text-align: right;\n",
       "    }\n",
       "</style>\n",
       "<table border=\"1\" class=\"dataframe\">\n",
       "  <thead>\n",
       "    <tr style=\"text-align: right;\">\n",
       "      <th></th>\n",
       "      <th>date</th>\n",
       "      <th>county</th>\n",
       "      <th>state</th>\n",
       "      <th>fips</th>\n",
       "      <th>cases</th>\n",
       "      <th>deaths</th>\n",
       "    </tr>\n",
       "  </thead>\n",
       "  <tbody>\n",
       "    <tr>\n",
       "      <th>0</th>\n",
       "      <td>2020-01-21</td>\n",
       "      <td>Snohomish</td>\n",
       "      <td>Washington</td>\n",
       "      <td>53061.0</td>\n",
       "      <td>1</td>\n",
       "      <td>0</td>\n",
       "    </tr>\n",
       "    <tr>\n",
       "      <th>1</th>\n",
       "      <td>2020-01-22</td>\n",
       "      <td>Snohomish</td>\n",
       "      <td>Washington</td>\n",
       "      <td>53061.0</td>\n",
       "      <td>1</td>\n",
       "      <td>0</td>\n",
       "    </tr>\n",
       "    <tr>\n",
       "      <th>2</th>\n",
       "      <td>2020-01-23</td>\n",
       "      <td>Snohomish</td>\n",
       "      <td>Washington</td>\n",
       "      <td>53061.0</td>\n",
       "      <td>1</td>\n",
       "      <td>0</td>\n",
       "    </tr>\n",
       "    <tr>\n",
       "      <th>3</th>\n",
       "      <td>2020-01-24</td>\n",
       "      <td>Cook</td>\n",
       "      <td>Illinois</td>\n",
       "      <td>17031.0</td>\n",
       "      <td>1</td>\n",
       "      <td>0</td>\n",
       "    </tr>\n",
       "    <tr>\n",
       "      <th>4</th>\n",
       "      <td>2020-01-24</td>\n",
       "      <td>Snohomish</td>\n",
       "      <td>Washington</td>\n",
       "      <td>53061.0</td>\n",
       "      <td>1</td>\n",
       "      <td>0</td>\n",
       "    </tr>\n",
       "    <tr>\n",
       "      <th>5</th>\n",
       "      <td>2020-01-25</td>\n",
       "      <td>Orange</td>\n",
       "      <td>California</td>\n",
       "      <td>6059.0</td>\n",
       "      <td>1</td>\n",
       "      <td>0</td>\n",
       "    </tr>\n",
       "    <tr>\n",
       "      <th>6</th>\n",
       "      <td>2020-01-25</td>\n",
       "      <td>Cook</td>\n",
       "      <td>Illinois</td>\n",
       "      <td>17031.0</td>\n",
       "      <td>1</td>\n",
       "      <td>0</td>\n",
       "    </tr>\n",
       "    <tr>\n",
       "      <th>7</th>\n",
       "      <td>2020-01-25</td>\n",
       "      <td>Snohomish</td>\n",
       "      <td>Washington</td>\n",
       "      <td>53061.0</td>\n",
       "      <td>1</td>\n",
       "      <td>0</td>\n",
       "    </tr>\n",
       "    <tr>\n",
       "      <th>8</th>\n",
       "      <td>2020-01-26</td>\n",
       "      <td>Maricopa</td>\n",
       "      <td>Arizona</td>\n",
       "      <td>4013.0</td>\n",
       "      <td>1</td>\n",
       "      <td>0</td>\n",
       "    </tr>\n",
       "    <tr>\n",
       "      <th>9</th>\n",
       "      <td>2020-01-26</td>\n",
       "      <td>Los Angeles</td>\n",
       "      <td>California</td>\n",
       "      <td>6037.0</td>\n",
       "      <td>1</td>\n",
       "      <td>0</td>\n",
       "    </tr>\n",
       "    <tr>\n",
       "      <th>10</th>\n",
       "      <td>2020-01-26</td>\n",
       "      <td>Orange</td>\n",
       "      <td>California</td>\n",
       "      <td>6059.0</td>\n",
       "      <td>1</td>\n",
       "      <td>0</td>\n",
       "    </tr>\n",
       "    <tr>\n",
       "      <th>11</th>\n",
       "      <td>2020-01-26</td>\n",
       "      <td>Cook</td>\n",
       "      <td>Illinois</td>\n",
       "      <td>17031.0</td>\n",
       "      <td>1</td>\n",
       "      <td>0</td>\n",
       "    </tr>\n",
       "    <tr>\n",
       "      <th>12</th>\n",
       "      <td>2020-01-26</td>\n",
       "      <td>Snohomish</td>\n",
       "      <td>Washington</td>\n",
       "      <td>53061.0</td>\n",
       "      <td>1</td>\n",
       "      <td>0</td>\n",
       "    </tr>\n",
       "    <tr>\n",
       "      <th>13</th>\n",
       "      <td>2020-01-27</td>\n",
       "      <td>Maricopa</td>\n",
       "      <td>Arizona</td>\n",
       "      <td>4013.0</td>\n",
       "      <td>1</td>\n",
       "      <td>0</td>\n",
       "    </tr>\n",
       "    <tr>\n",
       "      <th>14</th>\n",
       "      <td>2020-01-27</td>\n",
       "      <td>Los Angeles</td>\n",
       "      <td>California</td>\n",
       "      <td>6037.0</td>\n",
       "      <td>1</td>\n",
       "      <td>0</td>\n",
       "    </tr>\n",
       "    <tr>\n",
       "      <th>15</th>\n",
       "      <td>2020-01-27</td>\n",
       "      <td>Orange</td>\n",
       "      <td>California</td>\n",
       "      <td>6059.0</td>\n",
       "      <td>1</td>\n",
       "      <td>0</td>\n",
       "    </tr>\n",
       "    <tr>\n",
       "      <th>16</th>\n",
       "      <td>2020-01-27</td>\n",
       "      <td>Cook</td>\n",
       "      <td>Illinois</td>\n",
       "      <td>17031.0</td>\n",
       "      <td>1</td>\n",
       "      <td>0</td>\n",
       "    </tr>\n",
       "    <tr>\n",
       "      <th>17</th>\n",
       "      <td>2020-01-27</td>\n",
       "      <td>Snohomish</td>\n",
       "      <td>Washington</td>\n",
       "      <td>53061.0</td>\n",
       "      <td>1</td>\n",
       "      <td>0</td>\n",
       "    </tr>\n",
       "    <tr>\n",
       "      <th>18</th>\n",
       "      <td>2020-01-28</td>\n",
       "      <td>Maricopa</td>\n",
       "      <td>Arizona</td>\n",
       "      <td>4013.0</td>\n",
       "      <td>1</td>\n",
       "      <td>0</td>\n",
       "    </tr>\n",
       "    <tr>\n",
       "      <th>19</th>\n",
       "      <td>2020-01-28</td>\n",
       "      <td>Los Angeles</td>\n",
       "      <td>California</td>\n",
       "      <td>6037.0</td>\n",
       "      <td>1</td>\n",
       "      <td>0</td>\n",
       "    </tr>\n",
       "  </tbody>\n",
       "</table>\n",
       "</div>"
      ],
      "text/plain": [
       "          date       county       state     fips  cases  deaths\n",
       "0   2020-01-21    Snohomish  Washington  53061.0      1       0\n",
       "1   2020-01-22    Snohomish  Washington  53061.0      1       0\n",
       "2   2020-01-23    Snohomish  Washington  53061.0      1       0\n",
       "3   2020-01-24         Cook    Illinois  17031.0      1       0\n",
       "4   2020-01-24    Snohomish  Washington  53061.0      1       0\n",
       "5   2020-01-25       Orange  California   6059.0      1       0\n",
       "6   2020-01-25         Cook    Illinois  17031.0      1       0\n",
       "7   2020-01-25    Snohomish  Washington  53061.0      1       0\n",
       "8   2020-01-26     Maricopa     Arizona   4013.0      1       0\n",
       "9   2020-01-26  Los Angeles  California   6037.0      1       0\n",
       "10  2020-01-26       Orange  California   6059.0      1       0\n",
       "11  2020-01-26         Cook    Illinois  17031.0      1       0\n",
       "12  2020-01-26    Snohomish  Washington  53061.0      1       0\n",
       "13  2020-01-27     Maricopa     Arizona   4013.0      1       0\n",
       "14  2020-01-27  Los Angeles  California   6037.0      1       0\n",
       "15  2020-01-27       Orange  California   6059.0      1       0\n",
       "16  2020-01-27         Cook    Illinois  17031.0      1       0\n",
       "17  2020-01-27    Snohomish  Washington  53061.0      1       0\n",
       "18  2020-01-28     Maricopa     Arizona   4013.0      1       0\n",
       "19  2020-01-28  Los Angeles  California   6037.0      1       0"
      ]
     },
     "execution_count": 4,
     "metadata": {},
     "output_type": "execute_result"
    }
   ],
   "source": [
    "#用pandas看資料\n",
    "pdf = pd.read_csv('C://Users//user//Desktop//BigDataFinal//us-counties.csv//us-counties.csv')\n",
    "pdf.head(20)"
   ]
  },
  {
   "cell_type": "code",
   "execution_count": 5,
   "id": "4c00985e",
   "metadata": {},
   "outputs": [],
   "source": [
    "#data.registerTempTable('covid_data')"
   ]
  },
  {
   "cell_type": "code",
   "execution_count": 5,
   "id": "20cd0a61",
   "metadata": {},
   "outputs": [
    {
     "name": "stdout",
     "output_type": "stream",
     "text": [
      "root\n",
      " |-- date: string (nullable = true)\n",
      " |-- county: string (nullable = true)\n",
      " |-- state: string (nullable = true)\n",
      " |-- fips: integer (nullable = true)\n",
      " |-- cases: integer (nullable = true)\n",
      " |-- deaths: integer (nullable = true)\n",
      "\n"
     ]
    }
   ],
   "source": [
    "data.printSchema()"
   ]
  },
  {
   "cell_type": "code",
   "execution_count": 6,
   "id": "1a8f01ae",
   "metadata": {},
   "outputs": [
    {
     "data": {
      "text/plain": [
       "78548"
      ]
     },
     "execution_count": 6,
     "metadata": {},
     "output_type": "execute_result"
    }
   ],
   "source": [
    "#dataframe的總資料量(row)\n",
    "data.count()"
   ]
  },
  {
   "cell_type": "code",
   "execution_count": 58,
   "id": "5ee1414b",
   "metadata": {
    "scrolled": true
   },
   "outputs": [
    {
     "name": "stdout",
     "output_type": "stream",
     "text": [
      "+----------+\n",
      "|  max_data|\n",
      "+----------+\n",
      "|2020-04-21|\n",
      "+----------+\n",
      "\n"
     ]
    },
    {
     "data": {
      "text/plain": [
       "pyspark.sql.dataframe.DataFrame"
      ]
     },
     "execution_count": 58,
     "metadata": {},
     "output_type": "execute_result"
    }
   ],
   "source": [
    "#最後一天為4/21\n",
    "latest = data.agg(F.max('date').alias('max_data'))\n",
    "latest.show()\n",
    "\n",
    "type(latest)"
   ]
  },
  {
   "cell_type": "code",
   "execution_count": 59,
   "id": "123bbc9f",
   "metadata": {},
   "outputs": [
    {
     "name": "stdout",
     "output_type": "stream",
     "text": [
      "+----------+-------+-------+----+-----+------+\n",
      "|      date| county|  state|fips|cases|deaths|\n",
      "+----------+-------+-------+----+-----+------+\n",
      "|2020-04-21|Autauga|Alabama|1001|   30|     1|\n",
      "|2020-04-21|Baldwin|Alabama|1003|  123|     3|\n",
      "|2020-04-21|Barbour|Alabama|1005|   28|     0|\n",
      "|2020-04-21|   Bibb|Alabama|1007|   32|     0|\n",
      "|2020-04-21| Blount|Alabama|1009|   26|     0|\n",
      "+----------+-------+-------+----+-----+------+\n",
      "only showing top 5 rows\n",
      "\n"
     ]
    },
    {
     "data": {
      "text/plain": [
       "2783"
      ]
     },
     "execution_count": 59,
     "metadata": {},
     "output_type": "execute_result"
    }
   ],
   "source": [
    "#使用data.filter(data[\" \"] == \" \")來過濾出特定日期\n",
    "\n",
    "#過濾出最後一天(2020/4/21)並show出來\n",
    "data_filtered = data.filter(data[\"date\"] == \"2020-04-21\")\n",
    "data_filtered.show(5)\n",
    "\n",
    "#2020/4/21當天的資料量\n",
    "data_filtered.count()"
   ]
  },
  {
   "cell_type": "code",
   "execution_count": 62,
   "id": "542b2bd4",
   "metadata": {},
   "outputs": [
    {
     "name": "stdout",
     "output_type": "stream",
     "text": [
      "+-----------+------------+-----------------+------------------+----------------+\n",
      "|total_cases|total_deaths|number_of_records|number_of_counties|number_of_states|\n",
      "+-----------+------------+-----------------+------------------+----------------+\n",
      "|   11976472|      462057|            78548|              1659|              55|\n",
      "+-----------+------------+-----------------+------------------+----------------+\n",
      "\n",
      "+----------------+-----------------+----------------------------+-----------------------------+---------------------------+\n",
      "|2020/04/21_cases|2020/04/21_deaths|2020/04/21_number_of_records|2020/04/21_number_of_counties|2020/04/21_number_of_states|\n",
      "+----------------+-----------------+----------------------------+-----------------------------+---------------------------+\n",
      "|805770          |40315            |2783                        |1653                         |55                         |\n",
      "+----------------+-----------------+----------------------------+-----------------------------+---------------------------+\n",
      "\n"
     ]
    }
   ],
   "source": [
    "#Group & Aggregation\n",
    "\n",
    "#統計所有dataframe的數據資料\n",
    "\n",
    "#總共的數據\n",
    "overall_stats = data.agg(\n",
    "    F.sum(\"cases\").alias(\"total_cases\"), #總計所有的cases\n",
    "    F.sum(\"deaths\").alias(\"total_deaths\"), #總計所有的deaths\n",
    "    F.count(\"*\").alias(\"number_of_records\"), # 總計dataset中所有的records數量\n",
    "    F.countDistinct(\"county\").alias(\"number_of_counties\"), #總計counties的數量\n",
    "    F.countDistinct(\"state\").alias(\"number_of_states\") #總計states的數量\n",
    ")\n",
    "overall_stats.show()\n",
    "\n",
    "#單日(4/21)的數據\n",
    "overall_stats_0421 = data_filtered.agg(\n",
    "    F.sum(\"cases\").alias(\"2020/04/21_cases\"), \n",
    "    F.sum(\"deaths\").alias(\"2020/04/21_deaths\"), \n",
    "    F.count(\"*\").alias(\"2020/04/21_number_of_records\"), \n",
    "    F.countDistinct(\"county\").alias(\"2020/04/21_number_of_counties\"), \n",
    "    F.countDistinct(\"state\").alias(\"2020/04/21_number_of_states\")\n",
    ")\n",
    "overall_stats_0421.show(1, False)"
   ]
  },
  {
   "cell_type": "code",
   "execution_count": 63,
   "id": "8d5226e7",
   "metadata": {},
   "outputs": [
    {
     "name": "stdout",
     "output_type": "stream",
     "text": [
      "+----------+-------------+----------+-----+------+------+\n",
      "|date      |county       |state     |fips |cases |deaths|\n",
      "+----------+-------------+----------+-----+------+------+\n",
      "|2020-04-21|New York City|New York  |null |139335|10301 |\n",
      "|2020-04-21|Nassau       |New York  |36059|31079 |1717  |\n",
      "|2020-04-21|Suffolk      |New York  |36103|28154 |918   |\n",
      "|2020-04-21|Westchester  |New York  |36119|24655 |904   |\n",
      "|2020-04-21|Cook         |Illinois  |17031|23181 |1002  |\n",
      "|2020-04-21|Los Angeles  |California|6037 |15140 |663   |\n",
      "|2020-04-21|Wayne        |Michigan  |26163|14255 |1278  |\n",
      "|2020-04-21|Bergen       |New Jersey|34003|13356 |835   |\n",
      "|2020-04-21|Hudson       |New Jersey|34017|11636 |525   |\n",
      "|2020-04-21|Essex        |New Jersey|34013|11128 |849   |\n",
      "+----------+-------------+----------+-----+------+------+\n",
      "only showing top 10 rows\n",
      "\n"
     ]
    }
   ],
   "source": [
    "#以2021/4/21為例子\n",
    "#由案例的多至少來排序\n",
    "\n",
    "data_filtered.orderBy(desc(\"cases\")).show(10, False)"
   ]
  },
  {
   "cell_type": "code",
   "execution_count": 77,
   "id": "f49083cf",
   "metadata": {
    "scrolled": true
   },
   "outputs": [
    {
     "name": "stdout",
     "output_type": "stream",
     "text": [
      "+---------+-----------+------------+-----------------+----------------+\n",
      "|county   |total_cases|total_deaths|number_of_records|number_of_states|\n",
      "+---------+-----------+------------+-----------------+----------------+\n",
      "|Abbeville|18         |0           |1                |1               |\n",
      "|Acadia   |114        |7           |1                |1               |\n",
      "|Accomack |52         |1           |1                |1               |\n",
      "|Ada      |589        |12          |1                |1               |\n",
      "|Adair    |113        |7           |4                |4               |\n",
      "|Adams    |1368       |57          |10               |10              |\n",
      "|Addison  |61         |2           |1                |1               |\n",
      "|Aiken    |70         |4           |1                |1               |\n",
      "|Aitkin   |1          |0           |1                |1               |\n",
      "|Alachua  |224        |1           |1                |1               |\n",
      "+---------+-----------+------------+-----------------+----------------+\n",
      "only showing top 10 rows\n",
      "\n"
     ]
    }
   ],
   "source": [
    "#2020/4/21的資料\n",
    "#Grouping data at 'county' level,可看到當日的每個郡的統計數據資料\n",
    "\n",
    "county_summary = data_filtered.groupBy(\"county\").agg(\n",
    "    F.sum(\"cases\").alias(\"total_cases\"),\n",
    "    F.sum(\"deaths\").alias(\"total_deaths\"),\n",
    "    F.count(\"*\").alias(\"number_of_records\"),\n",
    "    F.countDistinct(\"state\").alias(\"number_of_states\")\n",
    ")\n",
    "\n",
    "#以'county'做少至多的排序(alphabetical order)\n",
    "county_summary.orderBy(\"county\").show(10, False)"
   ]
  },
  {
   "cell_type": "code",
   "execution_count": null,
   "id": "bfc07750",
   "metadata": {},
   "outputs": [],
   "source": [
    "#Join的部分\n",
    "#感覺都是練習而已不確定要不要講"
   ]
  },
  {
   "cell_type": "code",
   "execution_count": 68,
   "id": "3b0fd2c9",
   "metadata": {},
   "outputs": [
    {
     "name": "stdout",
     "output_type": "stream",
     "text": [
      "+-------+-----------+------------+-----------------+----------------+\n",
      "|county |total_cases|total_deaths|number_of_records|number_of_states|\n",
      "+-------+-----------+------------+-----------------+----------------+\n",
      "|Adair  |113        |7           |4                |4               |\n",
      "|Addison|61         |2           |1                |1               |\n",
      "+-------+-----------+------------+-----------------+----------------+\n",
      "\n"
     ]
    }
   ],
   "source": [
    "# filter data for county - Adair & Addison and prepare our left_table\n",
    "left_table = county_summary.where(\n",
    "    \"county in ('Adair', 'Addison')\"\n",
    ")\n",
    "left_table.show(5, False)"
   ]
  },
  {
   "cell_type": "code",
   "execution_count": 69,
   "id": "1a107fee",
   "metadata": {},
   "outputs": [
    {
     "name": "stdout",
     "output_type": "stream",
     "text": [
      "+--------+-----------+------------+-----------------+----------------+\n",
      "|county  |total_cases|total_deaths|number_of_records|number_of_states|\n",
      "+--------+-----------+------------+-----------------+----------------+\n",
      "|Accomack|52         |1           |1                |1               |\n",
      "|Ada     |589        |12          |1                |1               |\n",
      "+--------+-----------+------------+-----------------+----------------+\n",
      "\n"
     ]
    }
   ],
   "source": [
    "# filter data for county - Ada & Accomack and prepare our right_table\n",
    "right_table = county_summary.where(\n",
    "    \"county in ('Ada', 'Accomack')\"\n",
    ")\n",
    "right_table.show(5, False)"
   ]
  },
  {
   "cell_type": "code",
   "execution_count": 70,
   "id": "430a92f4",
   "metadata": {},
   "outputs": [
    {
     "name": "stdout",
     "output_type": "stream",
     "text": [
      "+-------+-----------+------------+-----------------+----------------+-----------+------------+-----------------+----------------+\n",
      "|county |total_cases|total_deaths|number_of_records|number_of_states|total_cases|total_deaths|number_of_records|number_of_states|\n",
      "+-------+-----------+------------+-----------------+----------------+-----------+------------+-----------------+----------------+\n",
      "|Adair  |113        |7           |4                |4               |113        |7           |4                |4               |\n",
      "|Addison|61         |2           |1                |1               |61         |2           |1                |1               |\n",
      "+-------+-----------+------------+-----------------+----------------+-----------+------------+-----------------+----------------+\n",
      "\n"
     ]
    }
   ],
   "source": [
    "# applying inner join\n",
    "# county_summary contains all the counties and their statistics\n",
    "inner_table = county_summary.join(\n",
    "    left_table,\n",
    "    on=[\"county\"],\n",
    "    how=\"inner\"\n",
    ")\n",
    "\n",
    "inner_table.show(100, False)"
   ]
  },
  {
   "cell_type": "code",
   "execution_count": 71,
   "id": "d78cc232",
   "metadata": {},
   "outputs": [
    {
     "name": "stdout",
     "output_type": "stream",
     "text": [
      "+-------+-----------+------------+-----------------+----------------+-----------+------------+-----------------+----------------+\n",
      "|county |total_cases|total_deaths|number_of_records|number_of_states|total_cases|total_deaths|number_of_records|number_of_states|\n",
      "+-------+-----------+------------+-----------------+----------------+-----------+------------+-----------------+----------------+\n",
      "|Adair  |113        |7           |4                |4               |null       |null        |null             |null            |\n",
      "|Addison|61         |2           |1                |1               |null       |null        |null             |null            |\n",
      "+-------+-----------+------------+-----------------+----------------+-----------+------------+-----------------+----------------+\n",
      "\n"
     ]
    }
   ],
   "source": [
    "# applying left join\n",
    "left_table_joined = left_table.join(\n",
    "    right_table,\n",
    "    on=[\"county\"],\n",
    "    how=\"left\"\n",
    ")\n",
    "\n",
    "left_table_joined.show(100, False)"
   ]
  },
  {
   "cell_type": "code",
   "execution_count": 72,
   "id": "ea22a594",
   "metadata": {},
   "outputs": [
    {
     "name": "stdout",
     "output_type": "stream",
     "text": [
      "+--------+-----------+------------+-----------------+----------------+-----------+------------+-----------------+----------------+\n",
      "|county  |total_cases|total_deaths|number_of_records|number_of_states|total_cases|total_deaths|number_of_records|number_of_states|\n",
      "+--------+-----------+------------+-----------------+----------------+-----------+------------+-----------------+----------------+\n",
      "|Accomack|null       |null        |null             |null            |52         |1           |1                |1               |\n",
      "|Ada     |null       |null        |null             |null            |589        |12          |1                |1               |\n",
      "+--------+-----------+------------+-----------------+----------------+-----------+------------+-----------------+----------------+\n",
      "\n"
     ]
    }
   ],
   "source": [
    "# applying right join\n",
    "right_table_joined = left_table.join(\n",
    "    right_table,\n",
    "    on=[\"county\"],\n",
    "    how=\"right\"\n",
    ")\n",
    "\n",
    "right_table_joined.show(100, False)"
   ]
  },
  {
   "cell_type": "code",
   "execution_count": 73,
   "id": "8d496138",
   "metadata": {},
   "outputs": [
    {
     "name": "stdout",
     "output_type": "stream",
     "text": [
      "+--------+-----------+------------+-----------------+----------------+-----------+------------+-----------------+----------------+\n",
      "|county  |total_cases|total_deaths|number_of_records|number_of_states|total_cases|total_deaths|number_of_records|number_of_states|\n",
      "+--------+-----------+------------+-----------------+----------------+-----------+------------+-----------------+----------------+\n",
      "|Accomack|null       |null        |null             |null            |52         |1           |1                |1               |\n",
      "|Adair   |113        |7           |4                |4               |null       |null        |null             |null            |\n",
      "|Ada     |null       |null        |null             |null            |589        |12          |1                |1               |\n",
      "|Addison |61         |2           |1                |1               |null       |null        |null             |null            |\n",
      "+--------+-----------+------------+-----------------+----------------+-----------+------------+-----------------+----------------+\n",
      "\n"
     ]
    }
   ],
   "source": [
    "# applying outer join or full join\n",
    "outer_table_joined = left_table.join(\n",
    "    right_table,\n",
    "    on=[\"county\"],\n",
    "    how=\"outer\"\n",
    ")\n",
    "\n",
    "outer_table_joined.show(100, False)"
   ]
  },
  {
   "cell_type": "code",
   "execution_count": 74,
   "id": "013c713e",
   "metadata": {},
   "outputs": [
    {
     "name": "stdout",
     "output_type": "stream",
     "text": [
      "+------+-----------+------------+-----------------+----------------+\n",
      "|county|total_cases|total_deaths|number_of_records|number_of_states|\n",
      "+------+-----------+------------+-----------------+----------------+\n",
      "|Adair |113        |7           |4                |4               |\n",
      "+------+-----------+------------+-----------------+----------------+\n",
      "\n"
     ]
    }
   ],
   "source": [
    "# get percentage # of cases for each state in Adair\n",
    "# filter data for county - Adair\n",
    "adir_overall = county_summary.where(\n",
    "    \"county in ('Adair')\"\n",
    ")\n",
    "adir_overall.show(5, False)"
   ]
  },
  {
   "cell_type": "code",
   "execution_count": 75,
   "id": "f81dcb5a",
   "metadata": {},
   "outputs": [
    {
     "name": "stdout",
     "output_type": "stream",
     "text": [
      "+------+----------+--------+-----+-----+------+-----------+------------+-----------------+----------------+\n",
      "|county|date      |state   |fips |cases|deaths|total_cases|total_deaths|number_of_records|number_of_states|\n",
      "+------+----------+--------+-----+-----+------+-----------+------------+-----------------+----------------+\n",
      "|Adair |2020-04-21|Iowa    |19001|1    |0     |113        |7           |4                |4               |\n",
      "|Adair |2020-04-21|Kentucky|21001|53   |4     |113        |7           |4                |4               |\n",
      "|Adair |2020-04-21|Missouri|29001|12   |0     |113        |7           |4                |4               |\n",
      "|Adair |2020-04-21|Oklahoma|40001|47   |3     |113        |7           |4                |4               |\n",
      "+------+----------+--------+-----+-----+------+-----------+------------+-----------------+----------------+\n",
      "\n"
     ]
    }
   ],
   "source": [
    "# join the Adair summary to its states\n",
    "perc_cases_statewise = data_filtered.join(\n",
    "    adir_overall,\n",
    "    on=\"county\",\n",
    "    how=\"inner\"\n",
    ")\n",
    "\n",
    "perc_cases_statewise.show(10, False)"
   ]
  },
  {
   "cell_type": "code",
   "execution_count": 76,
   "id": "5b383bc4",
   "metadata": {},
   "outputs": [
    {
     "name": "stdout",
     "output_type": "stream",
     "text": [
      "+------+----------+--------+-----+-----+------+-----------+------------+-----------------+----------------+--------------------+-------------------+\n",
      "|county|date      |state   |fips |cases|deaths|total_cases|total_deaths|number_of_records|number_of_states|perc_cases          |perc_deaths        |\n",
      "+------+----------+--------+-----+-----+------+-----------+------------+-----------------+----------------+--------------------+-------------------+\n",
      "|Adair |2020-04-21|Iowa    |19001|1    |0     |113        |7           |4                |4               |0.008849557522123894|0.0                |\n",
      "|Adair |2020-04-21|Kentucky|21001|53   |4     |113        |7           |4                |4               |0.4690265486725664  |0.5714285714285714 |\n",
      "|Adair |2020-04-21|Missouri|29001|12   |0     |113        |7           |4                |4               |0.10619469026548672 |0.0                |\n",
      "|Adair |2020-04-21|Oklahoma|40001|47   |3     |113        |7           |4                |4               |0.415929203539823   |0.42857142857142855|\n",
      "+------+----------+--------+-----+-----+------+-----------+------------+-----------------+----------------+--------------------+-------------------+\n",
      "\n"
     ]
    }
   ],
   "source": [
    "# calculate percentage of cases and deaths\n",
    "perc_cases_statewise = perc_cases_statewise.withColumn(\n",
    "    \"perc_cases\",\n",
    "    F.col(\"cases\")/F.col(\"total_cases\")\n",
    ").withColumn(\n",
    "    \"perc_deaths\",\n",
    "    F.col(\"deaths\")/F.col(\"total_deaths\")\n",
    ")\n",
    "\n",
    "perc_cases_statewise.show(10, False)"
   ]
  },
  {
   "cell_type": "code",
   "execution_count": null,
   "id": "dbfa709a",
   "metadata": {},
   "outputs": [],
   "source": [
    "#parition by & window function\n",
    "#這部分可以講一下結果"
   ]
  },
  {
   "cell_type": "code",
   "execution_count": 78,
   "id": "7f9e25e8",
   "metadata": {},
   "outputs": [],
   "source": [
    "#要藉由 clause 來 apply parition\n",
    "from pyspark.sql.window import Window"
   ]
  },
  {
   "cell_type": "code",
   "execution_count": 79,
   "id": "16977d59",
   "metadata": {},
   "outputs": [
    {
     "name": "stdout",
     "output_type": "stream",
     "text": [
      "+--------------+-----------+------------+-----------------+----------------+\n",
      "|county        |total_cases|total_deaths|number_of_records|number_of_states|\n",
      "+--------------+-----------+------------+-----------------+----------------+\n",
      "|Worcester     |3374       |133         |2                |2               |\n",
      "|East Feliciana|101        |8           |1                |1               |\n",
      "+--------------+-----------+------------+-----------------+----------------+\n",
      "only showing top 2 rows\n",
      "\n"
     ]
    }
   ],
   "source": [
    "#County 的 grouping data 的 dataframe 的結構長這樣\n",
    "county_summary.show(2, False)"
   ]
  },
  {
   "cell_type": "code",
   "execution_count": 80,
   "id": "08fb4970",
   "metadata": {},
   "outputs": [
    {
     "name": "stdout",
     "output_type": "stream",
     "text": [
      "+--------+-----------+------------+-----------------+----------------+----+\n",
      "|county  |total_cases|total_deaths|number_of_records|number_of_states|rank|\n",
      "+--------+-----------+------------+-----------------+----------------+----+\n",
      "|Aitkin  |1          |0           |1                |1               |1   |\n",
      "|Ferry   |1          |0           |1                |1               |1   |\n",
      "|Braxton |1          |0           |1                |1               |1   |\n",
      "|Tensas  |1          |0           |1                |1               |1   |\n",
      "|Okfuskee|1          |0           |1                |1               |1   |\n",
      "+--------+-----------+------------+-----------------+----------------+----+\n",
      "only showing top 5 rows\n",
      "\n"
     ]
    }
   ],
   "source": [
    "#建立新的 column 以及存取新的 dataframe 作為 'county_summary_ranked'\n",
    "#使用 withColumn 來建立新的 columns, 其中第一個參數為 'column name'、第二個參數為 'column value'\n",
    "#'rank' 就是依照 'column value(total_cases)' 做少至多的排序\n",
    "\n",
    "county_summary_ranked = county_summary.withColumn(\n",
    "    \"rank\", # column name\n",
    "    # rank function assigns a rank starting from 1 and orderBy condition mentions that rank will be based on the column - total_cases\n",
    "    # by default the sorting is done in ascending order\n",
    "    F.rank().over(Window.orderBy(\"total_cases\")) \n",
    ")\n",
    "\n",
    "# print out some of the records\n",
    "county_summary_ranked.show(5, False)"
   ]
  },
  {
   "cell_type": "code",
   "execution_count": 81,
   "id": "0e8d9c9a",
   "metadata": {},
   "outputs": [
    {
     "name": "stdout",
     "output_type": "stream",
     "text": [
      "+-------------+-----------+------------+-----------------+----------------+----+---------+\n",
      "|county       |total_cases|total_deaths|number_of_records|number_of_states|rank|rank_desc|\n",
      "+-------------+-----------+------------+-----------------+----------------+----+---------+\n",
      "|New York City|139335     |10301       |1                |1               |1653|1        |\n",
      "|Suffolk      |36823      |1203        |2                |2               |1652|2        |\n",
      "|Nassau       |31125      |1717        |2                |2               |1651|3        |\n",
      "|Westchester  |24655      |904         |1                |1               |1650|4        |\n",
      "|Cook         |23194      |1003        |2                |2               |1649|5        |\n",
      "+-------------+-----------+------------+-----------------+----------------+----+---------+\n",
      "only showing top 5 rows\n",
      "\n"
     ]
    }
   ],
   "source": [
    "#'rank_desc' 就是依照 'column value(total_cases)' 做多至少的排序， 跟 'rank'相反\n",
    "\n",
    "county_summary_ranked = county_summary_ranked.withColumn(\n",
    "    \"rank_desc\",\n",
    "    # if we want high end values to be assigned the lower rank, we sort the data in descending order using F.desc function\n",
    "    F.rank().over(Window.orderBy(F.desc(\"total_cases\")))\n",
    ")\n",
    "\n",
    "# also, let's order the data by total_cases in descending order\n",
    "county_summary_ranked.orderBy(\"total_cases\", ascending=False).show(5, False)"
   ]
  },
  {
   "cell_type": "code",
   "execution_count": 83,
   "id": "1e099a2d",
   "metadata": {},
   "outputs": [
    {
     "name": "stdout",
     "output_type": "stream",
     "text": [
      "+----------+-------+-------+----+-----+------+\n",
      "|date      |county |state  |fips|cases|deaths|\n",
      "+----------+-------+-------+----+-----+------+\n",
      "|2020-04-21|Autauga|Alabama|1001|30   |1     |\n",
      "|2020-04-21|Baldwin|Alabama|1003|123  |3     |\n",
      "+----------+-------+-------+----+-----+------+\n",
      "only showing top 2 rows\n",
      "\n"
     ]
    },
    {
     "data": {
      "text/plain": [
       "2783"
      ]
     },
     "execution_count": 83,
     "metadata": {},
     "output_type": "execute_result"
    }
   ],
   "source": [
    "#接下來要為每個郡單獨去創建一個州的排名\n",
    "#使用2020/4/21當天的資料作範例\n",
    "\n",
    "# to achieve this we will use the state level dataset containing the data for the latest date\n",
    "data_filtered.show(2, False)\n",
    "\n",
    "# also, let's check the count\n",
    "data_filtered.count()"
   ]
  },
  {
   "cell_type": "code",
   "execution_count": 85,
   "id": "0c61b077",
   "metadata": {},
   "outputs": [
    {
     "name": "stdout",
     "output_type": "stream",
     "text": [
      "+----------+---------+--------------+-----+-----+------+----------+\n",
      "|date      |county   |state         |fips |cases|deaths|state_rank|\n",
      "+----------+---------+--------------+-----+-----+------+----------+\n",
      "|2020-04-21|Abbeville|South Carolina|45001|18   |0     |1         |\n",
      "|2020-04-21|Acadia   |Louisiana     |22001|114  |7     |1         |\n",
      "|2020-04-21|Accomack |Virginia      |51001|52   |1     |1         |\n",
      "|2020-04-21|Ada      |Idaho         |16001|589  |12    |1         |\n",
      "|2020-04-21|Adair    |Kentucky      |21001|53   |4     |1         |\n",
      "|2020-04-21|Adair    |Oklahoma      |40001|47   |3     |2         |\n",
      "|2020-04-21|Adair    |Missouri      |29001|12   |0     |3         |\n",
      "|2020-04-21|Adair    |Iowa          |19001|1    |0     |4         |\n",
      "|2020-04-21|Adams    |Colorado      |8001 |996  |46    |1         |\n",
      "|2020-04-21|Adams    |Nebraska      |31001|101  |1     |2         |\n",
      "|2020-04-21|Adams    |Pennsylvania  |42001|91   |2     |3         |\n",
      "|2020-04-21|Adams    |Mississippi   |28001|90   |6     |4         |\n",
      "|2020-04-21|Adams    |Washington    |53001|44   |0     |5         |\n",
      "|2020-04-21|Adams    |Illinois      |17001|29   |0     |6         |\n",
      "|2020-04-21|Adams    |Indiana       |18001|7    |1     |7         |\n",
      "|2020-04-21|Adams    |Wisconsin     |55001|4    |1     |8         |\n",
      "|2020-04-21|Adams    |Ohio          |39001|3    |0     |9         |\n",
      "|2020-04-21|Adams    |Idaho         |16003|3    |0     |9         |\n",
      "|2020-04-21|Addison  |Vermont       |50001|61   |2     |1         |\n",
      "|2020-04-21|Aiken    |South Carolina|45003|70   |4     |1         |\n",
      "|2020-04-21|Aitkin   |Minnesota     |27001|1    |0     |1         |\n",
      "|2020-04-21|Alachua  |Florida       |12001|224  |1     |1         |\n",
      "|2020-04-21|Alamance |North Carolina|37001|52   |0     |1         |\n",
      "|2020-04-21|Alameda  |California    |6001 |1260 |43    |1         |\n",
      "|2020-04-21|Alamosa  |Colorado      |8003 |9    |2     |1         |\n",
      "|2020-04-21|Albany   |New York      |36001|704  |36    |1         |\n",
      "|2020-04-21|Albany   |Wyoming       |56001|6    |0     |2         |\n",
      "|2020-04-21|Albemarle|Virginia      |51003|66   |3     |1         |\n",
      "|2020-04-21|Alcona   |Michigan      |26001|3    |0     |1         |\n",
      "|2020-04-21|Alcorn   |Mississippi   |28003|7    |0     |1         |\n",
      "+----------+---------+--------------+-----+-----+------+----------+\n",
      "only showing top 30 rows\n",
      "\n"
     ]
    }
   ],
   "source": [
    "# 建立新的 dataframe 叫做 ranked_states\n",
    "ranked_states = data_filtered.withColumn(\n",
    "    \"state_rank\", #county 名稱重複會累加\n",
    "    #我們還要來指定 partition(劃分) clause(條款), 來為每個郡分別的創造 rank\n",
    "    F.rank().over(Window.partitionBy(\"county\").orderBy(F.desc(\"cases\"))) \n",
    ")\n",
    "\n",
    "#Ordered by county & state_rank\n",
    "ranked_states.orderBy(\"county\", \"state_rank\").show(30, False)"
   ]
  },
  {
   "cell_type": "code",
   "execution_count": 86,
   "id": "79f04fff",
   "metadata": {},
   "outputs": [
    {
     "data": {
      "text/plain": [
       "1660"
      ]
     },
     "execution_count": 86,
     "metadata": {},
     "output_type": "execute_result"
    }
   ],
   "source": [
    "# now, let's filter out only the top state for each of the county\n",
    "ranked_states_filtered = ranked_states.filter(\n",
    "    # since, the top state has been assigned rank-1, we can filter states where state_rank is 1\n",
    "    \"state_rank = 1\"\n",
    ")\n",
    "\n",
    "# let's check the count which should be equal to the number of counties in the dataset\n",
    "ranked_states_filtered.count()"
   ]
  },
  {
   "cell_type": "code",
   "execution_count": 87,
   "id": "837f9c39",
   "metadata": {},
   "outputs": [
    {
     "name": "stdout",
     "output_type": "stream",
     "text": [
      "+----------+---------------+--------------+-----+-----+------+----------+\n",
      "|date      |county         |state         |fips |cases|deaths|state_rank|\n",
      "+----------+---------------+--------------+-----+-----+------+----------+\n",
      "|2020-04-21|Abbeville      |South Carolina|45001|18   |0     |1         |\n",
      "|2020-04-21|Acadia         |Louisiana     |22001|114  |7     |1         |\n",
      "|2020-04-21|Accomack       |Virginia      |51001|52   |1     |1         |\n",
      "|2020-04-21|Ada            |Idaho         |16001|589  |12    |1         |\n",
      "|2020-04-21|Adair          |Kentucky      |21001|53   |4     |1         |\n",
      "|2020-04-21|Adams          |Colorado      |8001 |996  |46    |1         |\n",
      "|2020-04-21|Addison        |Vermont       |50001|61   |2     |1         |\n",
      "|2020-04-21|Aiken          |South Carolina|45003|70   |4     |1         |\n",
      "|2020-04-21|Aitkin         |Minnesota     |27001|1    |0     |1         |\n",
      "|2020-04-21|Alachua        |Florida       |12001|224  |1     |1         |\n",
      "|2020-04-21|Alamance       |North Carolina|37001|52   |0     |1         |\n",
      "|2020-04-21|Alameda        |California    |6001 |1260 |43    |1         |\n",
      "|2020-04-21|Alamosa        |Colorado      |8003 |9    |2     |1         |\n",
      "|2020-04-21|Albany         |New York      |36001|704  |36    |1         |\n",
      "|2020-04-21|Albemarle      |Virginia      |51003|66   |3     |1         |\n",
      "|2020-04-21|Alcona         |Michigan      |26001|3    |0     |1         |\n",
      "|2020-04-21|Alcorn         |Mississippi   |28003|7    |0     |1         |\n",
      "|2020-04-21|Alexander      |North Carolina|37003|3    |0     |1         |\n",
      "|2020-04-21|Alexandria city|Virginia      |51510|462  |9     |1         |\n",
      "|2020-04-21|Alfalfa        |Oklahoma      |40003|1    |0     |1         |\n",
      "|2020-04-21|Allamakee      |Iowa          |19005|44   |3     |1         |\n",
      "|2020-04-21|Allegan        |Michigan      |26005|47   |0     |1         |\n",
      "|2020-04-21|Allegany       |Maryland      |24001|56   |2     |1         |\n",
      "|2020-04-21|Alleghany      |Virginia      |51005|5    |0     |1         |\n",
      "|2020-04-21|Allegheny      |Pennsylvania  |42003|1059 |67    |1         |\n",
      "|2020-04-21|Allen          |Indiana       |18003|336  |22    |1         |\n",
      "|2020-04-21|Allendale      |South Carolina|45005|6    |0     |1         |\n",
      "|2020-04-21|Alpena         |Michigan      |26007|35   |1     |1         |\n",
      "|2020-04-21|Alpine         |California    |6003 |1    |0     |1         |\n",
      "|2020-04-21|Amador         |California    |6005 |7    |0     |1         |\n",
      "|2020-04-21|Amelia         |Virginia      |51007|15   |1     |1         |\n",
      "|2020-04-21|Amherst        |Virginia      |51009|10   |1     |1         |\n",
      "|2020-04-21|Amite          |Mississippi   |28005|18   |0     |1         |\n",
      "|2020-04-21|Anchorage      |Alaska        |2020 |160  |4     |1         |\n",
      "|2020-04-21|Anderson       |South Carolina|45007|132  |5     |1         |\n",
      "|2020-04-21|Andrew         |Missouri      |29003|1    |0     |1         |\n",
      "|2020-04-21|Andrews        |Texas         |48003|19   |0     |1         |\n",
      "|2020-04-21|Androscoggin   |Maine         |23001|36   |1     |1         |\n",
      "|2020-04-21|Angelina       |Texas         |48005|27   |0     |1         |\n",
      "|2020-04-21|Anne Arundel   |Maryland      |24003|1157 |45    |1         |\n",
      "|2020-04-21|Anoka          |Minnesota     |27003|97   |2     |1         |\n",
      "|2020-04-21|Anson          |North Carolina|37007|18   |0     |1         |\n",
      "|2020-04-21|Antelope       |Nebraska      |31003|1    |0     |1         |\n",
      "|2020-04-21|Antrim         |Michigan      |26009|9    |0     |1         |\n",
      "|2020-04-21|Apache         |Arizona       |4001 |226  |5     |1         |\n",
      "|2020-04-21|Appanoose      |Iowa          |19007|2    |2     |1         |\n",
      "|2020-04-21|Appling        |Georgia       |13001|21   |1     |1         |\n",
      "|2020-04-21|Appomattox     |Virginia      |51011|7    |0     |1         |\n",
      "|2020-04-21|Aransas        |Texas         |48007|2    |0     |1         |\n",
      "|2020-04-21|Arapahoe       |Colorado      |8005 |1649 |80    |1         |\n",
      "+----------+---------------+--------------+-----+-----+------+----------+\n",
      "only showing top 50 rows\n",
      "\n"
     ]
    }
   ],
   "source": [
    "# also, let's check the results\n",
    "ranked_states_filtered.orderBy(\"county\", \"state_rank\").show(50, False)"
   ]
  },
  {
   "cell_type": "code",
   "execution_count": 88,
   "id": "f4fa08ff",
   "metadata": {},
   "outputs": [],
   "source": [
    "# assigning the parition by clause in a variable - w\n",
    "partition_clause = Window.partitionBy(\"county\")"
   ]
  },
  {
   "cell_type": "code",
   "execution_count": 89,
   "id": "238d0d3c",
   "metadata": {},
   "outputs": [
    {
     "name": "stdout",
     "output_type": "stream",
     "text": [
      "+----------+---------------+--------------+-----+-----+------+----------+-------------------+---------------------+-----------------+-----------------+\n",
      "|date      |county         |state         |fips |cases|deaths|state_rank|country_total_cases|perc_total_cases     |country_avg_cases|country_max_cases|\n",
      "+----------+---------------+--------------+-----+-----+------+----------+-------------------+---------------------+-----------------+-----------------+\n",
      "|2020-04-21|Abbeville      |South Carolina|45001|18   |0     |1         |18                 |1.0                  |18.0             |18               |\n",
      "|2020-04-21|Acadia         |Louisiana     |22001|114  |7     |1         |114                |1.0                  |114.0            |114              |\n",
      "|2020-04-21|Accomack       |Virginia      |51001|52   |1     |1         |52                 |1.0                  |52.0             |52               |\n",
      "|2020-04-21|Ada            |Idaho         |16001|589  |12    |1         |589                |1.0                  |589.0            |589              |\n",
      "|2020-04-21|Adair          |Iowa          |19001|1    |0     |4         |113                |0.008849557522123894 |28.25            |53               |\n",
      "|2020-04-21|Adair          |Missouri      |29001|12   |0     |3         |113                |0.10619469026548672  |28.25            |53               |\n",
      "|2020-04-21|Adair          |Oklahoma      |40001|47   |3     |2         |113                |0.415929203539823    |28.25            |53               |\n",
      "|2020-04-21|Adair          |Kentucky      |21001|53   |4     |1         |113                |0.4690265486725664   |28.25            |53               |\n",
      "|2020-04-21|Adams          |Ohio          |39001|3    |0     |9         |1368               |0.0021929824561403508|136.8            |996              |\n",
      "|2020-04-21|Adams          |Idaho         |16003|3    |0     |9         |1368               |0.0021929824561403508|136.8            |996              |\n",
      "|2020-04-21|Adams          |Wisconsin     |55001|4    |1     |8         |1368               |0.0029239766081871343|136.8            |996              |\n",
      "|2020-04-21|Adams          |Indiana       |18001|7    |1     |7         |1368               |0.005116959064327485 |136.8            |996              |\n",
      "|2020-04-21|Adams          |Illinois      |17001|29   |0     |6         |1368               |0.021198830409356724 |136.8            |996              |\n",
      "|2020-04-21|Adams          |Washington    |53001|44   |0     |5         |1368               |0.03216374269005848  |136.8            |996              |\n",
      "|2020-04-21|Adams          |Mississippi   |28001|90   |6     |4         |1368               |0.06578947368421052  |136.8            |996              |\n",
      "|2020-04-21|Adams          |Pennsylvania  |42001|91   |2     |3         |1368               |0.06652046783625731  |136.8            |996              |\n",
      "|2020-04-21|Adams          |Nebraska      |31001|101  |1     |2         |1368               |0.07383040935672515  |136.8            |996              |\n",
      "|2020-04-21|Adams          |Colorado      |8001 |996  |46    |1         |1368               |0.7280701754385965   |136.8            |996              |\n",
      "|2020-04-21|Addison        |Vermont       |50001|61   |2     |1         |61                 |1.0                  |61.0             |61               |\n",
      "|2020-04-21|Aiken          |South Carolina|45003|70   |4     |1         |70                 |1.0                  |70.0             |70               |\n",
      "|2020-04-21|Aitkin         |Minnesota     |27001|1    |0     |1         |1                  |1.0                  |1.0              |1                |\n",
      "|2020-04-21|Alachua        |Florida       |12001|224  |1     |1         |224                |1.0                  |224.0            |224              |\n",
      "|2020-04-21|Alamance       |North Carolina|37001|52   |0     |1         |52                 |1.0                  |52.0             |52               |\n",
      "|2020-04-21|Alameda        |California    |6001 |1260 |43    |1         |1260               |1.0                  |1260.0           |1260             |\n",
      "|2020-04-21|Alamosa        |Colorado      |8003 |9    |2     |1         |9                  |1.0                  |9.0              |9                |\n",
      "|2020-04-21|Albany         |Wyoming       |56001|6    |0     |2         |710                |0.008450704225352112 |355.0            |704              |\n",
      "|2020-04-21|Albany         |New York      |36001|704  |36    |1         |710                |0.9915492957746479   |355.0            |704              |\n",
      "|2020-04-21|Albemarle      |Virginia      |51003|66   |3     |1         |66                 |1.0                  |66.0             |66               |\n",
      "|2020-04-21|Alcona         |Michigan      |26001|3    |0     |1         |3                  |1.0                  |3.0              |3                |\n",
      "|2020-04-21|Alcorn         |Mississippi   |28003|7    |0     |1         |7                  |1.0                  |7.0              |7                |\n",
      "|2020-04-21|Alexander      |Illinois      |17003|2    |0     |2         |5                  |0.4                  |2.5              |3                |\n",
      "|2020-04-21|Alexander      |North Carolina|37003|3    |0     |1         |5                  |0.6                  |2.5              |3                |\n",
      "|2020-04-21|Alexandria city|Virginia      |51510|462  |9     |1         |462                |1.0                  |462.0            |462              |\n",
      "|2020-04-21|Alfalfa        |Oklahoma      |40003|1    |0     |1         |1                  |1.0                  |1.0              |1                |\n",
      "|2020-04-21|Allamakee      |Iowa          |19005|44   |3     |1         |44                 |1.0                  |44.0             |44               |\n",
      "|2020-04-21|Allegan        |Michigan      |26005|47   |0     |1         |47                 |1.0                  |47.0             |47               |\n",
      "|2020-04-21|Allegany       |New York      |36003|30   |0     |2         |86                 |0.3488372093023256   |43.0             |56               |\n",
      "|2020-04-21|Allegany       |Maryland      |24001|56   |2     |1         |86                 |0.6511627906976745   |43.0             |56               |\n",
      "|2020-04-21|Alleghany      |North Carolina|37005|2    |0     |2         |7                  |0.2857142857142857   |3.5              |5                |\n",
      "|2020-04-21|Alleghany      |Virginia      |51005|5    |0     |1         |7                  |0.7142857142857143   |3.5              |5                |\n",
      "|2020-04-21|Allegheny      |Pennsylvania  |42003|1059 |67    |1         |1059               |1.0                  |1059.0           |1059             |\n",
      "|2020-04-21|Allen          |Kentucky      |21003|4    |0     |4         |507                |0.007889546351084813 |126.75           |336              |\n",
      "|2020-04-21|Allen          |Louisiana     |22003|79   |9     |3         |507                |0.15581854043392504  |126.75           |336              |\n",
      "|2020-04-21|Allen          |Ohio          |39003|88   |12    |2         |507                |0.17357001972386588  |126.75           |336              |\n",
      "|2020-04-21|Allen          |Indiana       |18003|336  |22    |1         |507                |0.6627218934911243   |126.75           |336              |\n",
      "|2020-04-21|Allendale      |South Carolina|45005|6    |0     |1         |6                  |1.0                  |6.0              |6                |\n",
      "|2020-04-21|Alpena         |Michigan      |26007|35   |1     |1         |35                 |1.0                  |35.0             |35               |\n",
      "|2020-04-21|Alpine         |California    |6003 |1    |0     |1         |1                  |1.0                  |1.0              |1                |\n",
      "|2020-04-21|Amador         |California    |6005 |7    |0     |1         |7                  |1.0                  |7.0              |7                |\n",
      "|2020-04-21|Amelia         |Virginia      |51007|15   |1     |1         |15                 |1.0                  |15.0             |15               |\n",
      "+----------+---------------+--------------+-----+-----+------+----------+-------------------+---------------------+-----------------+-----------------+\n",
      "only showing top 50 rows\n",
      "\n"
     ]
    }
   ],
   "source": [
    "# let's now get the total, average and maximum county cases across each of their respective states\n",
    "# we can use .withColumn in a chain format, that is one after the other and all are executed in a sequential order\n",
    "ranked_states = ranked_states.withColumn(\n",
    "    \"country_total_cases\",\n",
    "    # we will use the parition_clause we created above\n",
    "    F.sum(\"cases\").over(partition_clause)\n",
    ").withColumn(\n",
    "    # here we are calculating the % of cases in a state i.e. state_cases/respective_county_cases\n",
    "    \"perc_total_cases\",\n",
    "    F.col(\"cases\")/F.col(\"country_total_cases\")\n",
    ").withColumn(\n",
    "    \"country_avg_cases\",\n",
    "    # get county average cases\n",
    "    F.avg(\"cases\").over(partition_clause)\n",
    ").withColumn(\n",
    "    # get county max caaes\n",
    "    \"country_max_cases\",\n",
    "    F.max(\"cases\").over(partition_clause)\n",
    ")\n",
    "\n",
    "# now, let's print out the results\n",
    "ranked_states.orderBy(\"county\", \"perc_total_cases\").show(50, False)"
   ]
  },
  {
   "cell_type": "code",
   "execution_count": null,
   "id": "21dbaa34",
   "metadata": {},
   "outputs": [],
   "source": []
  }
 ],
 "metadata": {
  "kernelspec": {
   "display_name": "Python 3",
   "language": "python",
   "name": "python3"
  }
 },
 "nbformat": 4,
 "nbformat_minor": 5
}
