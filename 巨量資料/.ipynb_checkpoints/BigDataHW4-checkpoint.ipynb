{
 "cells": [
  {
   "cell_type": "code",
   "execution_count": 2,
   "id": "c3eab4cd",
   "metadata": {},
   "outputs": [],
   "source": [
    "import pyspark\n",
    "from pyspark.sql import SQLContext\n",
    "from pyspark import SparkContext\n",
    "from pyspark.sql.functions import *\n",
    "from pyspark.sql import SparkSession\n",
    "from pyspark.sql import functions "
   ]
  },
  {
   "cell_type": "code",
   "execution_count": 13,
   "id": "c911627a",
   "metadata": {},
   "outputs": [
    {
     "name": "stdout",
     "output_type": "stream",
     "text": [
      "+---+----+---+---------+\n",
      "|  1|1193|  5|978300760|\n",
      "+---+----+---+---------+\n",
      "|  1| 661|  3|978302109|\n",
      "|  1| 914|  3|978301968|\n",
      "|  1|3408|  4|978300275|\n",
      "|  1|2355|  5|978824291|\n",
      "|  1|1197|  3|978302268|\n",
      "+---+----+---+---------+\n",
      "only showing top 5 rows\n",
      "\n",
      "+---+--------------------+---------------------------+\n",
      "|  1|    Toy Story (1995)|Animation|Children's|Comedy|\n",
      "+---+--------------------+---------------------------+\n",
      "|  2|      Jumanji (1995)|       Adventure|Childre...|\n",
      "|  3|Grumpier Old Men ...|             Comedy|Romance|\n",
      "|  4|Waiting to Exhale...|               Comedy|Drama|\n",
      "|  5|Father of the Bri...|                     Comedy|\n",
      "|  6|         Heat (1995)|       Action|Crime|Thri...|\n",
      "+---+--------------------+---------------------------+\n",
      "only showing top 5 rows\n",
      "\n",
      "+-------------------+\n",
      "| 1::F::1::10::48067|\n",
      "+-------------------+\n",
      "|2::M::56::16::70072|\n",
      "|3::M::25::15::55117|\n",
      "| 4::M::45::7::02460|\n",
      "|5::M::25::20::55455|\n",
      "| 6::F::50::9::55117|\n",
      "+-------------------+\n",
      "only showing top 5 rows\n",
      "\n"
     ]
    }
   ],
   "source": [
    "df = spark.read.option(\"header\", \"true\") \\\n",
    "    .option(\"delimiter\", \"::\") \\\n",
    "    .option(\"inferSchema\", \"true\") \\\n",
    "    .csv(\"C://Users//user//Desktop//BigDataHW4//movies//ratings.dat\")\n",
    "\n",
    "df.show(5)\n",
    "\n",
    "df2 = spark.read.option(\"header\", \"true\") \\\n",
    "    .option(\"delimiter\", \"::\") \\\n",
    "    .option(\"inferSchema\", \"true\") \\\n",
    "    .csv(\"C://Users//user//Desktop//BigDataHW4//movies//movies.dat\")\n",
    "\n",
    "df2.show(5)\n",
    "\n",
    "df3 = spark.read.option(\"header\", \"true\") \\\n",
    "    .option(\"delimiter\", \" \") \\\n",
    "    .option(\"inferSchema\", \"true\") \\\n",
    "    .csv(\"C://Users//user//Desktop//BigDataHW4//movies//users.dat\")\n",
    "\n",
    "df3.show(5)"
   ]
  },
  {
   "cell_type": "code",
   "execution_count": null,
   "id": "cf8bc33e",
   "metadata": {},
   "outputs": [],
   "source": [
    "#Sorry, but I have no idea about this homework. QAQ"
   ]
  },
  {
   "cell_type": "code",
   "execution_count": null,
   "id": "ee214773",
   "metadata": {},
   "outputs": [],
   "source": []
  }
 ],
 "metadata": {
  "kernelspec": {
   "display_name": "Python 3",
   "language": "python",
   "name": "python3"
  },
  "language_info": {
   "codemirror_mode": {
    "name": "ipython",
    "version": 3
   },
   "file_extension": ".py",
   "mimetype": "text/x-python",
   "name": "python",
   "nbconvert_exporter": "python",
   "pygments_lexer": "ipython3",
   "version": "3.8.8"
  }
 },
 "nbformat": 4,
 "nbformat_minor": 5
}
